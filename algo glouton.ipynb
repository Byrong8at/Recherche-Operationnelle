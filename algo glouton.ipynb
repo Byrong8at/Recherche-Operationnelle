{
 "cells": [
  {
   "cell_type": "code",
   "execution_count": 34,
   "id": "8e92304f",
   "metadata": {},
   "outputs": [
    {
     "name": "stdout",
     "output_type": "stream",
     "text": [
      "creer\n"
     ]
    }
   ],
   "source": [
    "import random\n",
    "def creaville(nbr, distance_max):\n",
    "    random.seed(3)\n",
    "\n",
    "    distances = [[0 if i == j else None for j in range(nbr)] for i in range(nbr)]\n",
    "    \n",
    "    for i in range(nbr):\n",
    "        for j in range(i + 1, nbr):\n",
    "            distance = random.randint(1, distance_max)\n",
    "            distances[i][j] = distance\n",
    "            distances[j][i] = distance\n",
    "    \n",
    "    dicodist = {i:distances[i] for i in range(nbr)}\n",
    "    \n",
    "    return dicodist\n",
    "\n",
    "nbr = 10000\n",
    "nbr_max=nbr*3\n",
    "distances = creaville(nbr, nbr_max)\n",
    "\n",
    "print(\"creer\")\n"
   ]
  },
  {
   "cell_type": "code",
   "execution_count": 35,
   "id": "d1de3af8",
   "metadata": {},
   "outputs": [
    {
     "name": "stdout",
     "output_type": "stream",
     "text": [
      "Les fenêtres de temps ont bien été attribuées.\n"
     ]
    }
   ],
   "source": [
    "def creawindow(distance, duree_min, duree_max):\n",
    "    debut = int(distance)\n",
    "    duree = random.randint(duree_min, duree_max)\n",
    "    fin = debut + duree\n",
    "    return (debut, fin)\n",
    "\n",
    "fenetres = [[(0, 0) for _ in range(nbr)] for _ in range(nbr)]\n",
    "duree_min = 5 \n",
    "duree_max = 20 \n",
    "for i in range(nbr):\n",
    "    for j in range(i + 1, nbr):\n",
    "        distance_ij = distances[i][j]\n",
    "        fenetre_ij = creawindow(distance_ij, duree_min, duree_max)\n",
    "        fenetres[i][j] = fenetre_ij\n",
    "        fenetres[j][i] = fenetre_ij\n",
    "\n",
    "print(\"Les fenêtres de temps ont bien été attribuées.\")"
   ]
  },
  {
   "cell_type": "code",
   "execution_count": 36,
   "id": "0fde66e5",
   "metadata": {},
   "outputs": [
    {
     "name": "stdout",
     "output_type": "stream",
     "text": [
      "Distance totale: 1038515\n",
      "Première ville du chemin: 0\n",
      "Avant-dernière ville du chemin: 4073\n",
      "10051\n"
     ]
    }
   ],
   "source": [
    "def tsp_greedy(distances, fenetres, start=0):\n",
    "    ville_courante = start\n",
    "    chemin = [start]\n",
    "    poids = []  \n",
    "    distance_parcourue = 0\n",
    "    retour = 200 \n",
    "    point = 0\n",
    "    \n",
    "    # Suis les visites des villes\n",
    "    n = len(distances)\n",
    "    visited = [False] * n\n",
    "    visited[ville_courante] = True\n",
    "    \n",
    "    while not all(visited):\n",
    "        nearest_distance = float('inf')\n",
    "        nearest_city = None\n",
    "        \n",
    "        for city in range(n):\n",
    "            if not visited[city]:\n",
    "                start_window, end_window = fenetres[ville_courante][city]\n",
    "                travel_time = distances[ville_courante][city] \n",
    "                #voir si on rajoute end_window a la distance(temps) pour faire en sorte de dire qu'il a été la x temps\n",
    "                if start_window <= travel_time <= end_window:\n",
    "                    if travel_time < nearest_distance and visited[city] != True:\n",
    "                        if point == retour:\n",
    "                            nearest_distance = distances[ville_courante][start]  \n",
    "                            nearest_city = start\n",
    "                            point = 0\n",
    "                            break  \n",
    "                        else:\n",
    "                            nearest_distance = distances[ville_courante][city]  \n",
    "                            nearest_city = city\n",
    "\n",
    "        if nearest_city is None:\n",
    "            print(\"Aucun chemin ne respecte les fenêtres temporelles.\")\n",
    "            return None, None ,None\n",
    "\n",
    "        chemin.append(nearest_city)\n",
    "        poids.append(nearest_distance)  \n",
    "        visited[nearest_city] = True\n",
    "        distance_parcourue += nearest_distance\n",
    "        ville_courante = nearest_city  \n",
    "        point += 1  \n",
    "        \n",
    "    distance_parcourue += distances[ville_courante][start]\n",
    "    poids.append(distances[ville_courante][start])\n",
    "    chemin.append(start)\n",
    "    \n",
    "    return chemin, distance_parcourue, poids\n",
    "\n",
    "chemin, distance_totale, poids = tsp_greedy(distances, fenetres)\n",
    "\n",
    "if chemin is None:\n",
    "    print(\"Aucun chemin valide trouvé.\")\n",
    "else:\n",
    "    print(f\"Distance totale: {distance_totale}\")\n",
    "    print(f\"Première ville du chemin: {chemin[0]}\")\n",
    "    print(f\"Avant-dernière ville du chemin: {chemin[-2]}\")\n",
    "    print(len(chemin))\n"
   ]
  }
 ],
 "metadata": {
  "kernelspec": {
   "display_name": "Python 3",
   "language": "python",
   "name": "python3"
  },
  "language_info": {
   "codemirror_mode": {
    "name": "ipython",
    "version": 3
   },
   "file_extension": ".py",
   "mimetype": "text/x-python",
   "name": "python",
   "nbconvert_exporter": "python",
   "pygments_lexer": "ipython3",
   "version": "3.11.9"
  }
 },
 "nbformat": 4,
 "nbformat_minor": 5
}
